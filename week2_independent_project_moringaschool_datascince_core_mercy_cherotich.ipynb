{
  "nbformat": 4,
  "nbformat_minor": 0,
  "metadata": {
    "colab": {
      "name": "week2_independent_project_moringaschool_datascince_core_mercy_cherotich",
      "provenance": [],
      "authorship_tag": "ABX9TyNEOyffBGOwKMLr2HbV0fIp",
      "include_colab_link": true
    },
    "kernelspec": {
      "name": "python3",
      "display_name": "Python 3"
    },
    "language_info": {
      "name": "python"
    }
  },
  "cells": [
    {
      "cell_type": "markdown",
      "metadata": {
        "id": "view-in-github",
        "colab_type": "text"
      },
      "source": [
        "<a href=\"https://colab.research.google.com/github/Cherow/independentprojectweek2_dscore/blob/main/week2_independent_project_moringaschool_datascince_core_mercy_cherotich.ipynb\" target=\"_parent\"><img src=\"https://colab.research.google.com/assets/colab-badge.svg\" alt=\"Open In Colab\"/></a>"
      ]
    },
    {
      "cell_type": "markdown",
      "metadata": {
        "id": "EJ3lVgwz1zLR"
      },
      "source": [
        "Financial Inclusion is a major problem in Africa since most people are not able to access financial services which include credit and payment which is measured by one having a bank account.\n",
        "in this study we are trying to predict which individual are most likely to have or use a bank account.we are also showing the state of financial inclusion in Kenya,Rwanda ,Tanzania and Uganda while providing insight into some of the demographic factors that may drive indidual financial outcome and we achieve this through\n",
        "\n",
        "1.Define the question, the metric for success, the context, experimental design taken and the appropriateness of the available data to answer the given question\n",
        "\n",
        "2.Find and deal with outliers, anomalies, and missing data within the dataset.\n",
        "Perform univariate, bivariate and multivariate analysis recording your observations.\n",
        "\n",
        "3.Implement the solution by performing the respective analysis i.e. factor analysis, principal component analysis, and discriminant analysis.\n",
        "\n",
        "4.Challenge your solution by providing insights on how you can make improvements.\n",
        "\n",
        "---\n",
        "\n",
        "\n",
        "\n",
        "---\n",
        "\n"
      ]
    },
    {
      "cell_type": "markdown",
      "metadata": {
        "id": "L0GGbmd952BG"
      },
      "source": [
        "1.Define \n",
        "\n",
        "the research problem is to predict which indidual is most likely to have or use a bank account\n",
        "\n",
        "2.Metric of success\n",
        "\n",
        "Being able to successfuly predict who is more likely to have or use bank account\n",
        "\n",
        "3.Appropriateness of data available\n",
        "\n",
        "The data availabe is adequate to answer question and hence make prediction"
      ]
    },
    {
      "cell_type": "code",
      "metadata": {
        "id": "zdHT6RXAIO6w"
      },
      "source": [
        "#importing the libraries needed for analysis\n",
        "import pandas as pd\n",
        "import numpy as np\n",
        "import seaborn as sns\n",
        "import matplotlib.pyplot as plt"
      ],
      "execution_count": null,
      "outputs": []
    },
    {
      "cell_type": "markdown",
      "metadata": {
        "id": "fuu5ZGCmJjxs"
      },
      "source": [
        "### 2.Reading Dataset"
      ]
    },
    {
      "cell_type": "code",
      "metadata": {
        "id": "g888RocrI0he"
      },
      "source": [
        "#loading the dataset\n",
        "Financial_df = pd.read_csv('/content/Financial Dataset - 1.csv')\n"
      ],
      "execution_count": 7,
      "outputs": []
    },
    {
      "cell_type": "markdown",
      "metadata": {
        "id": "JjtPXZMFJwiH"
      },
      "source": [
        "## 3.Checking the dataset"
      ]
    },
    {
      "cell_type": "code",
      "metadata": {
        "colab": {
          "base_uri": "https://localhost:8080/"
        },
        "id": "XuwVGbbAKAKY",
        "outputId": "9cadb74b-6fb1-4e1a-f745-b73dc1d93004"
      },
      "source": [
        "#checking the number of records in our dataset\n",
        "Financial_df.shape"
      ],
      "execution_count": 8,
      "outputs": [
        {
          "output_type": "execute_result",
          "data": {
            "text/plain": [
              "(23524, 13)"
            ]
          },
          "metadata": {},
          "execution_count": 8
        }
      ]
    },
    {
      "cell_type": "code",
      "metadata": {
        "colab": {
          "base_uri": "https://localhost:8080/",
          "height": 290
        },
        "id": "3HcPyDrbKPU5",
        "outputId": "d0b8e600-d0ef-444a-ae16-596d7f6bedb9"
      },
      "source": [
        "#previewing the top records in the dataset\n",
        "Financial_df.head()"
      ],
      "execution_count": 9,
      "outputs": [
        {
          "output_type": "execute_result",
          "data": {
            "text/html": [
              "<div>\n",
              "<style scoped>\n",
              "    .dataframe tbody tr th:only-of-type {\n",
              "        vertical-align: middle;\n",
              "    }\n",
              "\n",
              "    .dataframe tbody tr th {\n",
              "        vertical-align: top;\n",
              "    }\n",
              "\n",
              "    .dataframe thead th {\n",
              "        text-align: right;\n",
              "    }\n",
              "</style>\n",
              "<table border=\"1\" class=\"dataframe\">\n",
              "  <thead>\n",
              "    <tr style=\"text-align: right;\">\n",
              "      <th></th>\n",
              "      <th>country</th>\n",
              "      <th>year</th>\n",
              "      <th>uniqueid</th>\n",
              "      <th>Has a Bank account</th>\n",
              "      <th>Type of Location</th>\n",
              "      <th>Cell Phone Access</th>\n",
              "      <th>household_size</th>\n",
              "      <th>Respondent Age</th>\n",
              "      <th>gender_of_respondent</th>\n",
              "      <th>The relathip with head</th>\n",
              "      <th>marital_status</th>\n",
              "      <th>Level of Educuation</th>\n",
              "      <th>Type of Job</th>\n",
              "    </tr>\n",
              "  </thead>\n",
              "  <tbody>\n",
              "    <tr>\n",
              "      <th>0</th>\n",
              "      <td>Kenya</td>\n",
              "      <td>2018</td>\n",
              "      <td>uniqueid_1</td>\n",
              "      <td>Yes</td>\n",
              "      <td>Rural</td>\n",
              "      <td>Yes</td>\n",
              "      <td>3.0</td>\n",
              "      <td>24.0</td>\n",
              "      <td>Female</td>\n",
              "      <td>Spouse</td>\n",
              "      <td>Married/Living together</td>\n",
              "      <td>Secondary education</td>\n",
              "      <td>Self employed</td>\n",
              "    </tr>\n",
              "    <tr>\n",
              "      <th>1</th>\n",
              "      <td>Kenya</td>\n",
              "      <td>2018</td>\n",
              "      <td>uniqueid_2</td>\n",
              "      <td>No</td>\n",
              "      <td>Rural</td>\n",
              "      <td>No</td>\n",
              "      <td>5.0</td>\n",
              "      <td>70.0</td>\n",
              "      <td>Female</td>\n",
              "      <td>Head of Household</td>\n",
              "      <td>Widowed</td>\n",
              "      <td>No formal education</td>\n",
              "      <td>Government Dependent</td>\n",
              "    </tr>\n",
              "    <tr>\n",
              "      <th>2</th>\n",
              "      <td>Kenya</td>\n",
              "      <td>2018</td>\n",
              "      <td>uniqueid_3</td>\n",
              "      <td>Yes</td>\n",
              "      <td>Urban</td>\n",
              "      <td>Yes</td>\n",
              "      <td>5.0</td>\n",
              "      <td>26.0</td>\n",
              "      <td>Male</td>\n",
              "      <td>Other relative</td>\n",
              "      <td>Single/Never Married</td>\n",
              "      <td>Vocational/Specialised training</td>\n",
              "      <td>Self employed</td>\n",
              "    </tr>\n",
              "    <tr>\n",
              "      <th>3</th>\n",
              "      <td>Kenya</td>\n",
              "      <td>2018</td>\n",
              "      <td>uniqueid_4</td>\n",
              "      <td>No</td>\n",
              "      <td>Rural</td>\n",
              "      <td>Yes</td>\n",
              "      <td>5.0</td>\n",
              "      <td>34.0</td>\n",
              "      <td>Female</td>\n",
              "      <td>Head of Household</td>\n",
              "      <td>Married/Living together</td>\n",
              "      <td>Primary education</td>\n",
              "      <td>Formally employed Private</td>\n",
              "    </tr>\n",
              "    <tr>\n",
              "      <th>4</th>\n",
              "      <td>Kenya</td>\n",
              "      <td>2018</td>\n",
              "      <td>uniqueid_5</td>\n",
              "      <td>No</td>\n",
              "      <td>Urban</td>\n",
              "      <td>No</td>\n",
              "      <td>8.0</td>\n",
              "      <td>26.0</td>\n",
              "      <td>Male</td>\n",
              "      <td>Child</td>\n",
              "      <td>Single/Never Married</td>\n",
              "      <td>Primary education</td>\n",
              "      <td>Informally employed</td>\n",
              "    </tr>\n",
              "  </tbody>\n",
              "</table>\n",
              "</div>"
            ],
            "text/plain": [
              "  country  year  ...              Level of Educuation                Type of Job\n",
              "0   Kenya  2018  ...              Secondary education              Self employed\n",
              "1   Kenya  2018  ...              No formal education       Government Dependent\n",
              "2   Kenya  2018  ...  Vocational/Specialised training              Self employed\n",
              "3   Kenya  2018  ...                Primary education  Formally employed Private\n",
              "4   Kenya  2018  ...                Primary education        Informally employed\n",
              "\n",
              "[5 rows x 13 columns]"
            ]
          },
          "metadata": {},
          "execution_count": 9
        }
      ]
    },
    {
      "cell_type": "code",
      "metadata": {
        "colab": {
          "base_uri": "https://localhost:8080/",
          "height": 307
        },
        "id": "CDzVQvZwKd6-",
        "outputId": "33f69fc8-d08f-4b82-fdd3-2368f3b510ff"
      },
      "source": [
        "#previewing the bottom records in the dataset\n",
        "Financial_df.tail()"
      ],
      "execution_count": 11,
      "outputs": [
        {
          "output_type": "execute_result",
          "data": {
            "text/html": [
              "<div>\n",
              "<style scoped>\n",
              "    .dataframe tbody tr th:only-of-type {\n",
              "        vertical-align: middle;\n",
              "    }\n",
              "\n",
              "    .dataframe tbody tr th {\n",
              "        vertical-align: top;\n",
              "    }\n",
              "\n",
              "    .dataframe thead th {\n",
              "        text-align: right;\n",
              "    }\n",
              "</style>\n",
              "<table border=\"1\" class=\"dataframe\">\n",
              "  <thead>\n",
              "    <tr style=\"text-align: right;\">\n",
              "      <th></th>\n",
              "      <th>country</th>\n",
              "      <th>year</th>\n",
              "      <th>uniqueid</th>\n",
              "      <th>Has a Bank account</th>\n",
              "      <th>Type of Location</th>\n",
              "      <th>Cell Phone Access</th>\n",
              "      <th>household_size</th>\n",
              "      <th>Respondent Age</th>\n",
              "      <th>gender_of_respondent</th>\n",
              "      <th>The relathip with head</th>\n",
              "      <th>marital_status</th>\n",
              "      <th>Level of Educuation</th>\n",
              "      <th>Type of Job</th>\n",
              "    </tr>\n",
              "  </thead>\n",
              "  <tbody>\n",
              "    <tr>\n",
              "      <th>23519</th>\n",
              "      <td>Uganda</td>\n",
              "      <td>2018</td>\n",
              "      <td>uniqueid_2113</td>\n",
              "      <td>No</td>\n",
              "      <td>Rural</td>\n",
              "      <td>Yes</td>\n",
              "      <td>4.0</td>\n",
              "      <td>48.0</td>\n",
              "      <td>Female</td>\n",
              "      <td>Head of Household</td>\n",
              "      <td>Divorced/Seperated</td>\n",
              "      <td>No formal education</td>\n",
              "      <td>Other Income</td>\n",
              "    </tr>\n",
              "    <tr>\n",
              "      <th>23520</th>\n",
              "      <td>Uganda</td>\n",
              "      <td>2018</td>\n",
              "      <td>uniqueid_2114</td>\n",
              "      <td>No</td>\n",
              "      <td>Rural</td>\n",
              "      <td>Yes</td>\n",
              "      <td>2.0</td>\n",
              "      <td>27.0</td>\n",
              "      <td>Female</td>\n",
              "      <td>Head of Household</td>\n",
              "      <td>Single/Never Married</td>\n",
              "      <td>Secondary education</td>\n",
              "      <td>Other Income</td>\n",
              "    </tr>\n",
              "    <tr>\n",
              "      <th>23521</th>\n",
              "      <td>Uganda</td>\n",
              "      <td>2018</td>\n",
              "      <td>uniqueid_2115</td>\n",
              "      <td>No</td>\n",
              "      <td>Rural</td>\n",
              "      <td>Yes</td>\n",
              "      <td>5.0</td>\n",
              "      <td>27.0</td>\n",
              "      <td>Female</td>\n",
              "      <td>Parent</td>\n",
              "      <td>Widowed</td>\n",
              "      <td>Primary education</td>\n",
              "      <td>Other Income</td>\n",
              "    </tr>\n",
              "    <tr>\n",
              "      <th>23522</th>\n",
              "      <td>Uganda</td>\n",
              "      <td>2018</td>\n",
              "      <td>uniqueid_2116</td>\n",
              "      <td>No</td>\n",
              "      <td>Urban</td>\n",
              "      <td>Yes</td>\n",
              "      <td>7.0</td>\n",
              "      <td>30.0</td>\n",
              "      <td>Female</td>\n",
              "      <td>Parent</td>\n",
              "      <td>Divorced/Seperated</td>\n",
              "      <td>Secondary education</td>\n",
              "      <td>Self employed</td>\n",
              "    </tr>\n",
              "    <tr>\n",
              "      <th>23523</th>\n",
              "      <td>Uganda</td>\n",
              "      <td>2018</td>\n",
              "      <td>uniqueid_2117</td>\n",
              "      <td>No</td>\n",
              "      <td>Rural</td>\n",
              "      <td>Yes</td>\n",
              "      <td>10.0</td>\n",
              "      <td>20.0</td>\n",
              "      <td>Male</td>\n",
              "      <td>Child</td>\n",
              "      <td>Single/Never Married</td>\n",
              "      <td>Secondary education</td>\n",
              "      <td>No Income</td>\n",
              "    </tr>\n",
              "  </tbody>\n",
              "</table>\n",
              "</div>"
            ],
            "text/plain": [
              "      country  year  ...  Level of Educuation    Type of Job\n",
              "23519  Uganda  2018  ...  No formal education   Other Income\n",
              "23520  Uganda  2018  ...  Secondary education   Other Income\n",
              "23521  Uganda  2018  ...    Primary education   Other Income\n",
              "23522  Uganda  2018  ...  Secondary education  Self employed\n",
              "23523  Uganda  2018  ...  Secondary education      No Income\n",
              "\n",
              "[5 rows x 13 columns]"
            ]
          },
          "metadata": {},
          "execution_count": 11
        }
      ]
    },
    {
      "cell_type": "markdown",
      "metadata": {
        "id": "sGtL3BibJTiV"
      },
      "source": [
        ""
      ]
    },
    {
      "cell_type": "code",
      "metadata": {
        "colab": {
          "base_uri": "https://localhost:8080/"
        },
        "id": "682WdXQ2KtFC",
        "outputId": "56c87b5f-d11f-45cf-c65d-e5c825e87a6d"
      },
      "source": [
        "#checking the unique values in each column\n",
        "Financial_df.nunique()"
      ],
      "execution_count": 12,
      "outputs": [
        {
          "output_type": "execute_result",
          "data": {
            "text/plain": [
              "country                      4\n",
              "year                         6\n",
              "uniqueid                  8735\n",
              "Has a Bank account           2\n",
              "Type of Location             2\n",
              "Cell Phone Access            2\n",
              "household_size              21\n",
              "Respondent Age              85\n",
              "gender_of_respondent         2\n",
              "The relathip with head       6\n",
              "marital_status               5\n",
              "Level of Educuation          7\n",
              "Type of Job                 10\n",
              "dtype: int64"
            ]
          },
          "metadata": {},
          "execution_count": 12
        }
      ]
    },
    {
      "cell_type": "code",
      "metadata": {
        "colab": {
          "base_uri": "https://localhost:8080/"
        },
        "id": "hCzx7qHBK7hd",
        "outputId": "1fff6b39-8428-4bb0-9919-83771ad3e9ac"
      },
      "source": [
        "#checking whether each column has the appropriate datatypr\n",
        "Financial_df.info()"
      ],
      "execution_count": 14,
      "outputs": [
        {
          "output_type": "stream",
          "name": "stdout",
          "text": [
            "<class 'pandas.core.frame.DataFrame'>\n",
            "RangeIndex: 23524 entries, 0 to 23523\n",
            "Data columns (total 13 columns):\n",
            " #   Column                  Non-Null Count  Dtype  \n",
            "---  ------                  --------------  -----  \n",
            " 0   country                 23510 non-null  object \n",
            " 1   year                    23524 non-null  int64  \n",
            " 2   uniqueid                23524 non-null  object \n",
            " 3   Has a Bank account      23488 non-null  object \n",
            " 4   Type of Location        23509 non-null  object \n",
            " 5   Cell Phone Access       23513 non-null  object \n",
            " 6   household_size          23496 non-null  float64\n",
            " 7   Respondent Age          23490 non-null  float64\n",
            " 8   gender_of_respondent    23490 non-null  object \n",
            " 9   The relathip with head  23520 non-null  object \n",
            " 10  marital_status          23492 non-null  object \n",
            " 11  Level of Educuation     23495 non-null  object \n",
            " 12  Type of Job             23494 non-null  object \n",
            "dtypes: float64(2), int64(1), object(10)\n",
            "memory usage: 2.3+ MB\n"
          ]
        }
      ]
    },
    {
      "cell_type": "markdown",
      "metadata": {
        "id": "6QzJa_kbuHDX"
      },
      "source": [
        ""
      ]
    },
    {
      "cell_type": "markdown",
      "metadata": {
        "id": "-Vs2omvSNwJ7"
      },
      "source": [
        "## 4.Tiding the data"
      ]
    },
    {
      "cell_type": "code",
      "metadata": {
        "colab": {
          "base_uri": "https://localhost:8080/"
        },
        "id": "9BVPIxTGN2G5",
        "outputId": "c7005946-ea0c-43fc-974a-c79752916db2"
      },
      "source": [
        "#checking for null values\n",
        "Financial_df.isnull().sum()"
      ],
      "execution_count": 15,
      "outputs": [
        {
          "output_type": "execute_result",
          "data": {
            "text/plain": [
              "country                   14\n",
              "year                       0\n",
              "uniqueid                   0\n",
              "Has a Bank account        36\n",
              "Type of Location          15\n",
              "Cell Phone Access         11\n",
              "household_size            28\n",
              "Respondent Age            34\n",
              "gender_of_respondent      34\n",
              "The relathip with head     4\n",
              "marital_status            32\n",
              "Level of Educuation       29\n",
              "Type of Job               30\n",
              "dtype: int64"
            ]
          },
          "metadata": {},
          "execution_count": 15
        }
      ]
    },
    {
      "cell_type": "code",
      "metadata": {
        "colab": {
          "base_uri": "https://localhost:8080/",
          "height": 290
        },
        "id": "4tWDeJHjLQbd",
        "outputId": "5a371b7b-ad1a-4c74-8674-7eb096b1c556"
      },
      "source": [
        "#removing the null values\n",
        "Financial_nonull = Financial_df.dropna()\n",
        "Financial_nonull.isnull().sum()\n",
        "Financial_nonull.head()"
      ],
      "execution_count": 16,
      "outputs": [
        {
          "output_type": "execute_result",
          "data": {
            "text/html": [
              "<div>\n",
              "<style scoped>\n",
              "    .dataframe tbody tr th:only-of-type {\n",
              "        vertical-align: middle;\n",
              "    }\n",
              "\n",
              "    .dataframe tbody tr th {\n",
              "        vertical-align: top;\n",
              "    }\n",
              "\n",
              "    .dataframe thead th {\n",
              "        text-align: right;\n",
              "    }\n",
              "</style>\n",
              "<table border=\"1\" class=\"dataframe\">\n",
              "  <thead>\n",
              "    <tr style=\"text-align: right;\">\n",
              "      <th></th>\n",
              "      <th>country</th>\n",
              "      <th>year</th>\n",
              "      <th>uniqueid</th>\n",
              "      <th>Has a Bank account</th>\n",
              "      <th>Type of Location</th>\n",
              "      <th>Cell Phone Access</th>\n",
              "      <th>household_size</th>\n",
              "      <th>Respondent Age</th>\n",
              "      <th>gender_of_respondent</th>\n",
              "      <th>The relathip with head</th>\n",
              "      <th>marital_status</th>\n",
              "      <th>Level of Educuation</th>\n",
              "      <th>Type of Job</th>\n",
              "    </tr>\n",
              "  </thead>\n",
              "  <tbody>\n",
              "    <tr>\n",
              "      <th>0</th>\n",
              "      <td>Kenya</td>\n",
              "      <td>2018</td>\n",
              "      <td>uniqueid_1</td>\n",
              "      <td>Yes</td>\n",
              "      <td>Rural</td>\n",
              "      <td>Yes</td>\n",
              "      <td>3.0</td>\n",
              "      <td>24.0</td>\n",
              "      <td>Female</td>\n",
              "      <td>Spouse</td>\n",
              "      <td>Married/Living together</td>\n",
              "      <td>Secondary education</td>\n",
              "      <td>Self employed</td>\n",
              "    </tr>\n",
              "    <tr>\n",
              "      <th>1</th>\n",
              "      <td>Kenya</td>\n",
              "      <td>2018</td>\n",
              "      <td>uniqueid_2</td>\n",
              "      <td>No</td>\n",
              "      <td>Rural</td>\n",
              "      <td>No</td>\n",
              "      <td>5.0</td>\n",
              "      <td>70.0</td>\n",
              "      <td>Female</td>\n",
              "      <td>Head of Household</td>\n",
              "      <td>Widowed</td>\n",
              "      <td>No formal education</td>\n",
              "      <td>Government Dependent</td>\n",
              "    </tr>\n",
              "    <tr>\n",
              "      <th>2</th>\n",
              "      <td>Kenya</td>\n",
              "      <td>2018</td>\n",
              "      <td>uniqueid_3</td>\n",
              "      <td>Yes</td>\n",
              "      <td>Urban</td>\n",
              "      <td>Yes</td>\n",
              "      <td>5.0</td>\n",
              "      <td>26.0</td>\n",
              "      <td>Male</td>\n",
              "      <td>Other relative</td>\n",
              "      <td>Single/Never Married</td>\n",
              "      <td>Vocational/Specialised training</td>\n",
              "      <td>Self employed</td>\n",
              "    </tr>\n",
              "    <tr>\n",
              "      <th>3</th>\n",
              "      <td>Kenya</td>\n",
              "      <td>2018</td>\n",
              "      <td>uniqueid_4</td>\n",
              "      <td>No</td>\n",
              "      <td>Rural</td>\n",
              "      <td>Yes</td>\n",
              "      <td>5.0</td>\n",
              "      <td>34.0</td>\n",
              "      <td>Female</td>\n",
              "      <td>Head of Household</td>\n",
              "      <td>Married/Living together</td>\n",
              "      <td>Primary education</td>\n",
              "      <td>Formally employed Private</td>\n",
              "    </tr>\n",
              "    <tr>\n",
              "      <th>4</th>\n",
              "      <td>Kenya</td>\n",
              "      <td>2018</td>\n",
              "      <td>uniqueid_5</td>\n",
              "      <td>No</td>\n",
              "      <td>Urban</td>\n",
              "      <td>No</td>\n",
              "      <td>8.0</td>\n",
              "      <td>26.0</td>\n",
              "      <td>Male</td>\n",
              "      <td>Child</td>\n",
              "      <td>Single/Never Married</td>\n",
              "      <td>Primary education</td>\n",
              "      <td>Informally employed</td>\n",
              "    </tr>\n",
              "  </tbody>\n",
              "</table>\n",
              "</div>"
            ],
            "text/plain": [
              "  country  year  ...              Level of Educuation                Type of Job\n",
              "0   Kenya  2018  ...              Secondary education              Self employed\n",
              "1   Kenya  2018  ...              No formal education       Government Dependent\n",
              "2   Kenya  2018  ...  Vocational/Specialised training              Self employed\n",
              "3   Kenya  2018  ...                Primary education  Formally employed Private\n",
              "4   Kenya  2018  ...                Primary education        Informally employed\n",
              "\n",
              "[5 rows x 13 columns]"
            ]
          },
          "metadata": {},
          "execution_count": 16
        }
      ]
    },
    {
      "cell_type": "code",
      "metadata": {
        "id": "QpzOZCWAQ8HY"
      },
      "source": [
        "#checking and removing any duplicates\n",
        "Financial_nonull.duplicated()\n",
        "Financial_noduplicates = Financial_nonull.drop_duplicates()\n"
      ],
      "execution_count": 17,
      "outputs": []
    },
    {
      "cell_type": "code",
      "metadata": {
        "colab": {
          "base_uri": "https://localhost:8080/"
        },
        "id": "drg_9zyKRvR4",
        "outputId": "099cc13a-ef62-4eea-ef67-779c65a2e0ae"
      },
      "source": [
        "#conveerting column into the right data type\n",
        "Financial_noduplicates.info()\n",
        "#date is not in the correct format so we convert it to Dateframe\n",
        "#Financial_noduplicates['Year']= (Financial_noduplicates['Year']).astype(int)\n",
        "#converting the household size to interger since it cant be float\n",
        "#Financial_noduplicates['Household_Size'] = Financial_noduplicates['Household_Size'].astype(int)\n",
        "Financial_noduplicates.shape"
      ],
      "execution_count": 26,
      "outputs": [
        {
          "output_type": "stream",
          "name": "stdout",
          "text": [
            "<class 'pandas.core.frame.DataFrame'>\n",
            "Int64Index: 23343 entries, 0 to 23523\n",
            "Data columns (total 13 columns):\n",
            " #   Column                  Non-Null Count  Dtype  \n",
            "---  ------                  --------------  -----  \n",
            " 0   country                 23343 non-null  object \n",
            " 1   year                    23343 non-null  int64  \n",
            " 2   uniqueid                23343 non-null  object \n",
            " 3   Has a Bank account      23343 non-null  object \n",
            " 4   Type of Location        23343 non-null  object \n",
            " 5   Cell Phone Access       23343 non-null  object \n",
            " 6   household_size          23343 non-null  float64\n",
            " 7   Respondent Age          23343 non-null  float64\n",
            " 8   gender_of_respondent    23343 non-null  object \n",
            " 9   The relathip with head  23343 non-null  object \n",
            " 10  marital_status          23343 non-null  object \n",
            " 11  Level of Educuation     23343 non-null  object \n",
            " 12  Type of Job             23343 non-null  object \n",
            "dtypes: float64(2), int64(1), object(10)\n",
            "memory usage: 2.5+ MB\n"
          ]
        },
        {
          "output_type": "execute_result",
          "data": {
            "text/plain": [
              "(23343, 13)"
            ]
          },
          "metadata": {},
          "execution_count": 26
        }
      ]
    },
    {
      "cell_type": "code",
      "metadata": {
        "colab": {
          "base_uri": "https://localhost:8080/",
          "height": 510
        },
        "id": "g7jr9LYXYZyd",
        "outputId": "a342f784-0f1a-46fb-a732-219aa1f8598e"
      },
      "source": [
        "#checking for outliers\n",
        "fig, (ax1, ax2) = plt.subplots(1,2,figsize=(10, 7))\n",
        "fig.suptitle('Boxplots')\n",
        "sns.boxplot( x = Financial_noduplicates['household_size'],ax = ax1)\n",
        "sns.boxplot( x = Financial_noduplicates['Respondent Age'],ax = ax2)\n",
        "#the outliers in the household size and respondent age will be retained because that is a cause of variation in the dataset meaning there could be very old person or very large families"
      ],
      "execution_count": 27,
      "outputs": [
        {
          "output_type": "execute_result",
          "data": {
            "text/plain": [
              "<matplotlib.axes._subplots.AxesSubplot at 0x7f93b6458c10>"
            ]
          },
          "metadata": {},
          "execution_count": 27
        },
        {
          "output_type": "display_data",
          "data": {
            "image/png": "[encoded data removed]",
            "text/plain": [
              "<Figure size 720x504 with 2 Axes>"
            ]
          },
          "metadata": {
            "needs_background": "light"
          }
        }
      ]
    },
    {
      "cell_type": "code",
      "metadata": {
        "id": "bmVOeS99WTVd"
      },
      "source": [
        "#renaming the column names since some columns are wrongly named and needs to be puncuated well\n",
        "Financial_noduplicates.columns=['Country','Year','Uniqueid','Bank_Account','Type_Of_Location','Cellphone_Access','Household_Size','Respondent_Age','Gender_Of_Respondent','Relationship_Head','Marital_Status','Level_Of_Education','Type_Of_Job']"
      ],
      "execution_count": 28,
      "outputs": []
    },
    {
      "cell_type": "markdown",
      "metadata": {
        "id": "v9lA0Fn6uRw7"
      },
      "source": [
        "## Univariate Data Analsyis"
      ]
    },
    {
      "cell_type": "code",
      "metadata": {
        "colab": {
          "base_uri": "https://localhost:8080/"
        },
        "id": "oJloitvMTyQo",
        "outputId": "ddb99273-517e-4616-a2e5-ae8f138a54c2"
      },
      "source": [
        "Financial_yes = Financial_noduplicates[Financial_noduplicates['Bank_Account'] == 'Yes']\n",
        "Financial_yes.head()\n",
        "\n",
        "\n",
        "#creating frequency table for the categoricacal data\n",
        "Financial_yes.Country.value_counts()\n",
        "#kenya has the most number of people having bank account followed by Rwanda then Tanzania  and finally Uganda \n",
        "Financial_yes.Marital_Status.value_counts()\n",
        "#married people recorded the highest number of people having bank account \n",
        "Financial_yes.Cellphone_Access.value_counts()\n",
        "#people who had cellphone access had the highest number of having bank accounts\n",
        "Financial_yes.Gender_Of_Respondent.value_counts()\n",
        "#male had more access to bank account female\n",
        "Financial_yes.Type_Of_Location.value_counts()\n",
        "#people in the rural had more bank access than people in the urban\n",
        "Financial_yes.Type_Of_Job.value_counts()\n",
        "#the self employed had more access to bank account\n",
        "Financial_yes.Level_Of_Education.value_counts()\n",
        "#the people who had primary school education had more access to bank account\n",
        "#Financial_yes.Relationship_Head.value_counts()\n",
        "#the household heads had more access to bank account \n"
      ],
      "execution_count": 128,
      "outputs": [
        {
          "output_type": "execute_result",
          "data": {
            "text/plain": [
              "Head of Household      2259\n",
              "Spouse                  695\n",
              "Child                   193\n",
              "Parent                   65\n",
              "Other relative           65\n",
              "Other non-relatives      20\n",
              "Name: Relationship_Head, dtype: int64"
            ]
          },
          "metadata": {},
          "execution_count": 128
        }
      ]
    },
    {
      "cell_type": "code",
      "metadata": {
        "colab": {
          "base_uri": "https://localhost:8080/",
          "height": 1000
        },
        "id": "oiM04Gokub0i",
        "outputId": "01ff5d9c-6d06-47f5-adc8-3f5bf210823d"
      },
      "source": [
        "#visualisation of the frequency table for the categorical data which has access to bank account\n",
        "\n",
        "fig, ((ax1, ax2),(ax3,ax4),(ax5,ax6),(ax7,ax8)) = plt.subplots(4,2,figsize=(20,20),)\n",
        "fig.suptitle('Histograms')\n",
        "sns.histplot(data=Financial_yes, x= 'Country',ax = ax1,binwidth=0.9)\n",
        "sns.histplot(data=Financial_yes,x='Cellphone_Access',ax= ax2)\n",
        "sns.histplot(data=Financial_yes,x='Gender_Of_Respondent',ax= ax3)\n",
        "sns.histplot(data=Financial_yes,x='Marital_Status',ax=ax4)\n",
        "sns.histplot(data=Financial_yes,x='Type_Of_Location',ax=ax5)\n",
        "sns.histplot(data=Financial_yes,x='Type_Of_Job',ax = ax6)\n",
        "sns.histplot(data=Financial_yes,x='Relationship_Head',ax =ax7)\n",
        "sns.histplot(data=Financial_yes,x='Level_Of_Education',ax= ax8)\n"
      ],
      "execution_count": 129,
      "outputs": [
        {
          "output_type": "execute_result",
          "data": {
            "text/plain": [
              "<matplotlib.axes._subplots.AxesSubplot at 0x7f7853e7a710>"
            ]
          },
          "metadata": {},
          "execution_count": 129
        },
        {
          "output_type": "display_data",
          "data": {
            "image/png": "[encoded data removed]",
            "text/plain": [
              "<Figure size 1440x1440 with 8 Axes>"
            ]
          },
          "metadata": {
            "needs_background": "light"
          }
        }
      ]
    },
    {
      "cell_type": "code",
      "metadata": {
        "colab": {
          "base_uri": "https://localhost:8080/",
          "height": 695
        },
        "id": "Sr-gW_PeDjQ2",
        "outputId": "21da6223-46b6-4137-b52d-85b5b328d505"
      },
      "source": [
        "#visualisation of the numerical data with bank access using histogram\n",
        "fig, (ax1, ax2) = plt.subplots(1,2,figsize=(15, 10))\n",
        "fig.suptitle('Histograms')\n",
        "sns.histplot( data = Financial_yes,x='Household_Size',bins = 10,ax = ax1)\n",
        "sns.histplot( data = Financial_yes,x='Respondent_Age',bins=10,ax = ax2)"
      ],
      "execution_count": 131,
      "outputs": [
        {
          "output_type": "execute_result",
          "data": {
            "text/plain": [
              "<matplotlib.axes._subplots.AxesSubplot at 0x7f7853c0c250>"
            ]
          },
          "metadata": {},
          "execution_count": 131
        },
        {
          "output_type": "display_data",
          "data": {
            "image/png": "[encoded data removed]",
            "text/plain": [
              "<Figure size 1080x720 with 2 Axes>"
            ]
          },
          "metadata": {
            "needs_background": "light"
          }
        }
      ]
    },
    {
      "cell_type": "code",
      "metadata": {
        "colab": {
          "base_uri": "https://localhost:8080/",
          "height": 297
        },
        "id": "r2jynikjGUYG",
        "outputId": "6b184980-eeb6-4ec6-9a7e-b7e29e87945f"
      },
      "source": [
        "#finding the univariate summaries for those with bank account access\n",
        "Financial_yes.describe()\n",
        "#the mean for household size and respondent age is 3.56 and 39.60 respectively and the standard deviation is 2.21 and 14.34 respectively meaning that the respondent age are more spread from the mean than the household size data"
      ],
      "execution_count": 132,
      "outputs": [
        {
          "output_type": "execute_result",
          "data": {
            "text/html": [
              "<div>\n",
              "<style scoped>\n",
              "    .dataframe tbody tr th:only-of-type {\n",
              "        vertical-align: middle;\n",
              "    }\n",
              "\n",
              "    .dataframe tbody tr th {\n",
              "        vertical-align: top;\n",
              "    }\n",
              "\n",
              "    .dataframe thead th {\n",
              "        text-align: right;\n",
              "    }\n",
              "</style>\n",
              "<table border=\"1\" class=\"dataframe\">\n",
              "  <thead>\n",
              "    <tr style=\"text-align: right;\">\n",
              "      <th></th>\n",
              "      <th>Household_Size</th>\n",
              "      <th>Respondent_Age</th>\n",
              "    </tr>\n",
              "  </thead>\n",
              "  <tbody>\n",
              "    <tr>\n",
              "      <th>count</th>\n",
              "      <td>3297.000000</td>\n",
              "      <td>3297.000000</td>\n",
              "    </tr>\n",
              "    <tr>\n",
              "      <th>mean</th>\n",
              "      <td>3.558993</td>\n",
              "      <td>39.605702</td>\n",
              "    </tr>\n",
              "    <tr>\n",
              "      <th>std</th>\n",
              "      <td>2.215401</td>\n",
              "      <td>14.344172</td>\n",
              "    </tr>\n",
              "    <tr>\n",
              "      <th>min</th>\n",
              "      <td>0.000000</td>\n",
              "      <td>16.000000</td>\n",
              "    </tr>\n",
              "    <tr>\n",
              "      <th>25%</th>\n",
              "      <td>2.000000</td>\n",
              "      <td>29.000000</td>\n",
              "    </tr>\n",
              "    <tr>\n",
              "      <th>50%</th>\n",
              "      <td>3.000000</td>\n",
              "      <td>36.000000</td>\n",
              "    </tr>\n",
              "    <tr>\n",
              "      <th>75%</th>\n",
              "      <td>5.000000</td>\n",
              "      <td>48.000000</td>\n",
              "    </tr>\n",
              "    <tr>\n",
              "      <th>max</th>\n",
              "      <td>17.000000</td>\n",
              "      <td>95.000000</td>\n",
              "    </tr>\n",
              "  </tbody>\n",
              "</table>\n",
              "</div>"
            ],
            "text/plain": [
              "       Household_Size  Respondent_Age\n",
              "count     3297.000000     3297.000000\n",
              "mean         3.558993       39.605702\n",
              "std          2.215401       14.344172\n",
              "min          0.000000       16.000000\n",
              "25%          2.000000       29.000000\n",
              "50%          3.000000       36.000000\n",
              "75%          5.000000       48.000000\n",
              "max         17.000000       95.000000"
            ]
          },
          "metadata": {},
          "execution_count": 132
        }
      ]
    },
    {
      "cell_type": "code",
      "metadata": {
        "colab": {
          "base_uri": "https://localhost:8080/"
        },
        "id": "ccXNXDENbDP5",
        "outputId": "4e59e121-0df2-4ab6-8688-d9127df9d343"
      },
      "source": [
        "#computing the skweness for the numerical data with bank account\n",
        "Financial_yes['Household_Size'].skew()\n",
        "#the Household size data has a skweness of 0.97 meaning  it is moderately skwed to the right\n",
        "Financial_yes['Respondent_Age'].skew()\n",
        "#the respondent age has a skweness of 0.94 meaning it is moderately skwed to the right"
      ],
      "execution_count": 135,
      "outputs": [
        {
          "output_type": "execute_result",
          "data": {
            "text/plain": [
              "0.9357422832248766"
            ]
          },
          "metadata": {},
          "execution_count": 135
        }
      ]
    },
    {
      "cell_type": "code",
      "metadata": {
        "colab": {
          "base_uri": "https://localhost:8080/"
        },
        "id": "lOfua1JbdZqa",
        "outputId": "ad2bcf78-ee9d-418a-8f64-839a271b1b04"
      },
      "source": [
        "#computing kurtosis for the numerical data with bank account\n",
        "Financial_yes['Household_Size'].kurt()\n",
        "#the household size has a kurtosis of 1.24 meaning leptpkurtic meaning there is presence of outliers but wont be removed due to the possibility of having large household\n",
        "Financial_yes['Respondent_Age'].kurt()\n",
        "#the Respondent age has a kurtosis of 0.47 which is more than 0 meaning it is leptokurtic and it has outliers but wont be remove since there is possibility of the respondent being very old"
      ],
      "execution_count": 138,
      "outputs": [
        {
          "output_type": "execute_result",
          "data": {
            "text/plain": [
              "0.46628468620455177"
            ]
          },
          "metadata": {},
          "execution_count": 138
        }
      ]
    },
    {
      "cell_type": "code",
      "metadata": {
        "colab": {
          "base_uri": "https://localhost:8080/"
        },
        "id": "MqJiyxk4gU5V",
        "outputId": "c832a0f4-d689-4b62-a4f2-6193928dad02"
      },
      "source": [
        "#computing the mode for the numerical data with bank account\n",
        "Financial_yes['Household_Size'].mode()\n",
        "#the mode of household size is 1 meaning most household consist of 1 members for those with bank account\n",
        "Financial_yes['Respondent_Age'].mode()\n",
        "#the mode of respondent age is 30 meaning most respondents aged 30 had bank account"
      ],
      "execution_count": 140,
      "outputs": [
        {
          "output_type": "execute_result",
          "data": {
            "text/plain": [
              "0    30.0\n",
              "dtype: float64"
            ]
          },
          "metadata": {},
          "execution_count": 140
        }
      ]
    },
    {
      "cell_type": "code",
      "metadata": {
        "colab": {
          "base_uri": "https://localhost:8080/"
        },
        "id": "vGxyXORSlgAP",
        "outputId": "2ecf2da2-aa6c-4272-b3ea-4e140d64d7ce"
      },
      "source": [
        "#computing the median for the numerical data with bank account\n",
        "Financial_yes.median()\n",
        "#the median household size is 3 and the respondent age is 36 for those with bank account"
      ],
      "execution_count": 141,
      "outputs": [
        {
          "output_type": "stream",
          "name": "stderr",
          "text": [
            "/usr/local/lib/python3.7/dist-packages/ipykernel_launcher.py:2: FutureWarning: DataFrame.mean and DataFrame.median with numeric_only=None will include datetime64 and datetime64tz columns in a future version.\n",
            "  \n"
          ]
        },
        {
          "output_type": "execute_result",
          "data": {
            "text/plain": [
              "Household_Size     3.0\n",
              "Respondent_Age    36.0\n",
              "dtype: float64"
            ]
          },
          "metadata": {},
          "execution_count": 141
        }
      ]
    },
    {
      "cell_type": "code",
      "metadata": {
        "colab": {
          "base_uri": "https://localhost:8080/"
        },
        "id": "asNlm9Wypl2W",
        "outputId": "664bbd9e-08ae-45c1-9aff-0f0ed2b5cd51"
      },
      "source": [
        "#computing the interquantile range for the numerical data with bank account\n",
        "Q1 = Financial_yes['Household_Size'].quantile(0.25)\n",
        "Q3 = Financial_yes['Household_Size'].quantile(0.75)\n",
        "interquatile_household = Q3 - Q1\n",
        "interquatile_household\n",
        "#the interquantile range for the household size is 3 which is the difference between the first and the third quantile\n",
        "Financial_yes['Respondent_Age'].quantile(0.75)-Financial_yes['Respondent_Age'].quantile(0.25)\n",
        "#the interquantile range for the respondent age is 19 meaning the difference between the 3rd quantile and the 1st quantile"
      ],
      "execution_count": 143,
      "outputs": [
        {
          "output_type": "execute_result",
          "data": {
            "text/plain": [
              "19.0"
            ]
          },
          "metadata": {},
          "execution_count": 143
        }
      ]
    },
    {
      "cell_type": "code",
      "metadata": {
        "colab": {
          "base_uri": "https://localhost:8080/"
        },
        "id": "6KE-lcvyz4rg",
        "outputId": "7f62c0fc-d3a1-40ba-b21d-106dcf6b2a61"
      },
      "source": [
        "#computing the range for the numerical data which has bank account\n",
        "Financial_yes['Household_Size'].max()-Financial_yes['Household_Size'].min()\n",
        "#the range of the household size with bank account is 17 that is the difference between the largest and smallest household\n",
        "Financial_yes['Respondent_Age'].max()-Financial_yes['Respondent_Age'].min()\n",
        "#the range of the respondent age with bank account is 79 that is the difference between the oldest and the youngest respondent"
      ],
      "execution_count": 147,
      "outputs": [
        {
          "output_type": "execute_result",
          "data": {
            "text/plain": [
              "79.0"
            ]
          },
          "metadata": {},
          "execution_count": 147
        }
      ]
    },
    {
      "cell_type": "code",
      "metadata": {
        "colab": {
          "base_uri": "https://localhost:8080/"
        },
        "id": "52ac4fUF2tmN",
        "outputId": "2fd9ff88-0cfd-4ce5-ab9a-ffb505a2467e"
      },
      "source": [
        "Financial_no = Financial_noduplicates[Financial_noduplicates['Bank_Account'] == 'No']\n",
        "Financial_no.head()\n",
        "\n",
        "\n",
        "#creating frequency table for the categoricacal data\n",
        "Financial_no.Country.value_counts()\n",
        "#Rwanda recorded the highest number of people without bank accounts\n",
        "Financial_no.Marital_Status.value_counts()\n",
        "#married people recorded the highest number of people without bank account  hence need to educate married people the benefits of having bank account\n",
        "Financial_no.Cellphone_Access.value_counts()\n",
        "#people who had cellphone access had the highest number of without  bank accounts thus  a need to reach out to people on benefits of having bank account through social media since most people with phones access social media\n",
        "Financial_no.Gender_Of_Respondent.value_counts()\n",
        "#more female didnt have bank account access hence the need to empower women and enlighthen them on  the benefits \n",
        "Financial_no.Type_Of_Location.value_counts()\n",
        "#more people in the rural had no bank account\n",
        "Financial_no.Type_Of_Job.value_counts()\n",
        "#self employed people recorded the highest number of no bank accounts\n",
        "Financial_no.Level_Of_Education.value_counts()\n",
        "#most people with primary eduaction had no bank account\n",
        "Financial_no.Relationship_Head.value_counts()\n",
        "#most household head had no bank account"
      ],
      "execution_count": 208,
      "outputs": [
        {
          "output_type": "execute_result",
          "data": {
            "text/plain": [
              "Self employed                   5517\n",
              "Informally employed             5110\n",
              "Farming and Fishing             4788\n",
              "Remittance Dependent            2269\n",
              "Other Income                     881\n",
              "No Income                        605\n",
              "Formally employed Private        481\n",
              "Government Dependent             197\n",
              "Dont Know/Refuse to answer       111\n",
              "Formally employed Government      87\n",
              "Name: Type_Of_Job, dtype: int64"
            ]
          },
          "metadata": {},
          "execution_count": 208
        }
      ]
    },
    {
      "cell_type": "code",
      "metadata": {
        "colab": {
          "base_uri": "https://localhost:8080/",
          "height": 1000
        },
        "id": "3BmBg-x624O3",
        "outputId": "ef9e6509-36e8-436f-d000-63c8da3c5239"
      },
      "source": [
        "#visualisation of the frequency table for the categorical data which had no bank account\n",
        "\n",
        "fig, ((ax1, ax2),(ax3,ax4),(ax5,ax6),(ax7,ax8)) = plt.subplots(4,2,figsize=(20,20),)\n",
        "fig.suptitle('Histograms')\n",
        "sns.histplot(data=Financial_no, x= 'Country',ax = ax1,binwidth=0.9)\n",
        "sns.histplot(data=Financial_no,x='Cellphone_Access',ax= ax2)\n",
        "sns.histplot(data=Financial_no,x='Gender_Of_Respondent',ax= ax3)\n",
        "sns.histplot(data=Financial_no,x='Marital_Status',ax=ax4)\n",
        "sns.histplot(data=Financial_no,x='Type_Of_Location',ax=ax5)\n",
        "sns.histplot(data=Financial_no,x='Type_Of_Job',ax = ax6)\n",
        "sns.histplot(data=Financial_no,x='Relationship_Head',ax =ax7)\n",
        "sns.histplot(data=Financial_no,x='Level_Of_Education',ax= ax8)\n"
      ],
      "execution_count": 158,
      "outputs": [
        {
          "output_type": "execute_result",
          "data": {
            "text/plain": [
              "<matplotlib.axes._subplots.AxesSubplot at 0x7f7853995d90>"
            ]
          },
          "metadata": {},
          "execution_count": 158
        },
        {
          "output_type": "display_data",
          "data": {
            "image/png": "[encoded data removed]",
            "text/plain": [
              "<Figure size 1440x1440 with 8 Axes>"
            ]
          },
          "metadata": {
            "needs_background": "light"
          }
        }
      ]
    },
    {
      "cell_type": "code",
      "metadata": {
        "colab": {
          "base_uri": "https://localhost:8080/",
          "height": 695
        },
        "id": "BIeuQ6RY3C3-",
        "outputId": "9ebbc009-f965-4c61-a926-746f7e03bd78"
      },
      "source": [
        "#visualisation of the numerical data with no bank access using histogram\n",
        "fig, (ax1, ax2) = plt.subplots(1,2,figsize=(15, 10))\n",
        "fig.suptitle('Histograms')\n",
        "sns.histplot( data = Financial_no,x='Household_Size',bins = 10,ax = ax1)\n",
        "sns.histplot( data = Financial_no,x='Respondent_Age',bins=10,ax = ax2)"
      ],
      "execution_count": 159,
      "outputs": [
        {
          "output_type": "execute_result",
          "data": {
            "text/plain": [
              "<matplotlib.axes._subplots.AxesSubplot at 0x7f78537b3390>"
            ]
          },
          "metadata": {},
          "execution_count": 159
        },
        {
          "output_type": "display_data",
          "data": {
            "image/png": "[encoded data removed]",
            "text/plain": [
              "<Figure size 1080x720 with 2 Axes>"
            ]
          },
          "metadata": {
            "needs_background": "light"
          }
        }
      ]
    },
    {
      "cell_type": "code",
      "metadata": {
        "id": "suzykEsT3Ndl"
      },
      "source": [
        ""
      ],
      "execution_count": null,
      "outputs": []
    },
    {
      "cell_type": "code",
      "metadata": {
        "colab": {
          "base_uri": "https://localhost:8080/",
          "height": 297
        },
        "id": "wcQ002EJ3N1V",
        "outputId": "cb8f1bfc-2682-471a-f23e-ac924e5aa74f"
      },
      "source": [
        "#finding the univariate summaries for those with no bank account access\n",
        "Financial_no.describe()\n",
        "#the mean for household size and respondent age is 3.71 and 38.67 respectively and the standard deviation is 2.29 and 16.84 respectively meaning that the respondent age are more spread from the mean than the household size data"
      ],
      "execution_count": 160,
      "outputs": [
        {
          "output_type": "execute_result",
          "data": {
            "text/html": [
              "<div>\n",
              "<style scoped>\n",
              "    .dataframe tbody tr th:only-of-type {\n",
              "        vertical-align: middle;\n",
              "    }\n",
              "\n",
              "    .dataframe tbody tr th {\n",
              "        vertical-align: top;\n",
              "    }\n",
              "\n",
              "    .dataframe thead th {\n",
              "        text-align: right;\n",
              "    }\n",
              "</style>\n",
              "<table border=\"1\" class=\"dataframe\">\n",
              "  <thead>\n",
              "    <tr style=\"text-align: right;\">\n",
              "      <th></th>\n",
              "      <th>Household_Size</th>\n",
              "      <th>Respondent_Age</th>\n",
              "    </tr>\n",
              "  </thead>\n",
              "  <tbody>\n",
              "    <tr>\n",
              "      <th>count</th>\n",
              "      <td>20046.000000</td>\n",
              "      <td>20046.000000</td>\n",
              "    </tr>\n",
              "    <tr>\n",
              "      <th>mean</th>\n",
              "      <td>3.709967</td>\n",
              "      <td>38.673900</td>\n",
              "    </tr>\n",
              "    <tr>\n",
              "      <th>std</th>\n",
              "      <td>2.291174</td>\n",
              "      <td>16.847437</td>\n",
              "    </tr>\n",
              "    <tr>\n",
              "      <th>min</th>\n",
              "      <td>0.000000</td>\n",
              "      <td>16.000000</td>\n",
              "    </tr>\n",
              "    <tr>\n",
              "      <th>25%</th>\n",
              "      <td>2.000000</td>\n",
              "      <td>25.000000</td>\n",
              "    </tr>\n",
              "    <tr>\n",
              "      <th>50%</th>\n",
              "      <td>3.000000</td>\n",
              "      <td>35.000000</td>\n",
              "    </tr>\n",
              "    <tr>\n",
              "      <th>75%</th>\n",
              "      <td>5.000000</td>\n",
              "      <td>49.000000</td>\n",
              "    </tr>\n",
              "    <tr>\n",
              "      <th>max</th>\n",
              "      <td>21.000000</td>\n",
              "      <td>100.000000</td>\n",
              "    </tr>\n",
              "  </tbody>\n",
              "</table>\n",
              "</div>"
            ],
            "text/plain": [
              "       Household_Size  Respondent_Age\n",
              "count    20046.000000    20046.000000\n",
              "mean         3.709967       38.673900\n",
              "std          2.291174       16.847437\n",
              "min          0.000000       16.000000\n",
              "25%          2.000000       25.000000\n",
              "50%          3.000000       35.000000\n",
              "75%          5.000000       49.000000\n",
              "max         21.000000      100.000000"
            ]
          },
          "metadata": {},
          "execution_count": 160
        }
      ]
    },
    {
      "cell_type": "code",
      "metadata": {
        "colab": {
          "base_uri": "https://localhost:8080/"
        },
        "id": "ty0oYJWf3wb1",
        "outputId": "cb1e0084-d316-48bb-c1fe-7a499a42e6c5"
      },
      "source": [
        "#computing the skweness for the numerical data with no bank account\n",
        "Financial_no['Household_Size'].skew()\n",
        "#the Household size data has a skweness of 0.97 meaning  it is moderately skwed to the right\n",
        "Financial_no['Respondent_Age'].skew()\n",
        "#the respondent age has a skweness of 0.83 meaning it is moderately skwed to the right"
      ],
      "execution_count": 162,
      "outputs": [
        {
          "output_type": "execute_result",
          "data": {
            "text/plain": [
              "0.8344560755514276"
            ]
          },
          "metadata": {},
          "execution_count": 162
        }
      ]
    },
    {
      "cell_type": "code",
      "metadata": {
        "colab": {
          "base_uri": "https://localhost:8080/"
        },
        "id": "oAkbd6jH333b",
        "outputId": "18ff46be-4db4-4e40-c856-354ee730ce23"
      },
      "source": [
        "#computing kurtosis for the numerical data with no bank account\n",
        "Financial_no['Household_Size'].kurt()\n",
        "#the household size has a kurtosis of 1.14 meaning leptpkurtic meaning there is presence of outliers but wont be removed due to the possibility of having large household\n",
        "Financial_no['Respondent_Age'].kurt()\n",
        "#the Respondent age has a kurtosis of 0.04 which is more than 0 meaning it is leptokurtic and it has outliers but wont be remove since there is possibility of the respondent being very old"
      ],
      "execution_count": 164,
      "outputs": [
        {
          "output_type": "execute_result",
          "data": {
            "text/plain": [
              "0.042372381050590935"
            ]
          },
          "metadata": {},
          "execution_count": 164
        }
      ]
    },
    {
      "cell_type": "code",
      "metadata": {
        "colab": {
          "base_uri": "https://localhost:8080/"
        },
        "id": "WraYy7GH4DxA",
        "outputId": "65d44127-7c15-42ca-809a-8af5a4f3f837"
      },
      "source": [
        "#computing the mode for the numerical data with no bank account\n",
        "Financial_no['Household_Size'].mode()\n",
        "#the mode of household size is 2 meaning most household consist of2 members for those with had no bank account\n",
        "Financial_no['Respondent_Age'].mode()\n",
        "#the mode of respondent age is 30 meaning most respondents aged 30 had no bank account thus young people need to be educated on need to have bank accounts"
      ],
      "execution_count": 166,
      "outputs": [
        {
          "output_type": "execute_result",
          "data": {
            "text/plain": [
              "0    30.0\n",
              "dtype: float64"
            ]
          },
          "metadata": {},
          "execution_count": 166
        }
      ]
    },
    {
      "cell_type": "code",
      "metadata": {
        "colab": {
          "base_uri": "https://localhost:8080/"
        },
        "id": "8fwAuFDZ4LVM",
        "outputId": "14265bd8-3ecd-4bf2-e4a5-e70b7ad28a30"
      },
      "source": [
        "#computing the median for the numerical data with no bank account\n",
        "Financial_no.median()\n",
        "#the median household size is 3 and the respondent age is 35 for those with no bank account"
      ],
      "execution_count": 167,
      "outputs": [
        {
          "output_type": "stream",
          "name": "stderr",
          "text": [
            "/usr/local/lib/python3.7/dist-packages/ipykernel_launcher.py:2: FutureWarning: DataFrame.mean and DataFrame.median with numeric_only=None will include datetime64 and datetime64tz columns in a future version.\n",
            "  \n"
          ]
        },
        {
          "output_type": "execute_result",
          "data": {
            "text/plain": [
              "Household_Size     3.0\n",
              "Respondent_Age    35.0\n",
              "dtype: float64"
            ]
          },
          "metadata": {},
          "execution_count": 167
        }
      ]
    },
    {
      "cell_type": "code",
      "metadata": {
        "colab": {
          "base_uri": "https://localhost:8080/"
        },
        "id": "lPloc3nJ4SM0",
        "outputId": "fdf3077f-5ca1-4ed6-8c5c-737a37bc75ab"
      },
      "source": [
        "#computing the interquantile range for the numerical data with  no bank account\n",
        "Q1 = Financial_no['Household_Size'].quantile(0.25)\n",
        "Q3 = Financial_no['Household_Size'].quantile(0.75)\n",
        "interquatile_household = Q3 - Q1\n",
        "interquatile_household\n",
        "#the interquantile range for the household size is 3 which is the difference between the first and the third quantile\n",
        "Financial_no['Respondent_Age'].quantile(0.75)-Financial_no['Respondent_Age'].quantile(0.25)\n",
        "#the interquantile range for the respondent age is 24 meaning the difference between the 3rd quantile and the 1st quantile"
      ],
      "execution_count": 170,
      "outputs": [
        {
          "output_type": "execute_result",
          "data": {
            "text/plain": [
              "24.0"
            ]
          },
          "metadata": {},
          "execution_count": 170
        }
      ]
    },
    {
      "cell_type": "code",
      "metadata": {
        "colab": {
          "base_uri": "https://localhost:8080/"
        },
        "id": "xN4dsbJR4a7T",
        "outputId": "eba2dc59-2db8-44ac-8320-d86dc83acf0d"
      },
      "source": [
        "#computing the range for the numerical data with no  bank account\n",
        "Financial_no['Household_Size'].max()-Financial_no['Household_Size'].min()\n",
        "#the range of the household size with no bank account is 21 that is the difference between the largest and smallest household\n",
        "Financial_no['Respondent_Age'].max()-Financial_no['Respondent_Age'].min()\n",
        "#the range of the respondent age with no bank account is 84 that is the difference between the oldest and the youngest respondent"
      ],
      "execution_count": 172,
      "outputs": [
        {
          "output_type": "execute_result",
          "data": {
            "text/plain": [
              "84.0"
            ]
          },
          "metadata": {},
          "execution_count": 172
        }
      ]
    },
    {
      "cell_type": "markdown",
      "metadata": {
        "id": "KgPeTaKYCS0W"
      },
      "source": [
        "### Bivariate Analysis"
      ]
    },
    {
      "cell_type": "code",
      "metadata": {
        "colab": {
          "base_uri": "https://localhost:8080/",
          "height": 297
        },
        "id": "dIDwV72RCffV",
        "outputId": "636ec48a-b0d4-4502-f154-ffbfe162cc31"
      },
      "source": [
        "#plotting scatter plot for the numerical data \n",
        "sns.regplot( x= Financial_noduplicates['Household_Size'], y = Financial_noduplicates['Respondent_Age'],fit_reg=True)\n",
        "#the scatter plot shows a inverse relationship between household size and respondent age"
      ],
      "execution_count": 173,
      "outputs": [
        {
          "output_type": "execute_result",
          "data": {
            "text/plain": [
              "<matplotlib.axes._subplots.AxesSubplot at 0x7f7853aa8110>"
            ]
          },
          "metadata": {},
          "execution_count": 173
        },
        {
          "output_type": "display_data",
          "data": {
            "image/png": "[encoded data removed]",
            "text/plain": [
              "<Figure size 432x288 with 1 Axes>"
            ]
          },
          "metadata": {
            "needs_background": "light"
          }
        }
      ]
    },
    {
      "cell_type": "code",
      "metadata": {
        "colab": {
          "base_uri": "https://localhost:8080/"
        },
        "id": "5np2mxchEr21",
        "outputId": "80e6debc-91d3-4393-adeb-d6697bdb99e8"
      },
      "source": [
        "#computing correlation for numerical data\n",
        "Financial_noduplicates['Household_Size'].corr(Financial_noduplicates['Respondent_Age'], method = 'pearson')\n",
        "#the correlation coefficient is -0.11 which is a weak negative correlation meaning has the household size increases the respondent age decreases"
      ],
      "execution_count": 174,
      "outputs": [
        {
          "output_type": "execute_result",
          "data": {
            "text/plain": [
              "-0.11970919507762415"
            ]
          },
          "metadata": {},
          "execution_count": 174
        }
      ]
    },
    {
      "cell_type": "markdown",
      "metadata": {
        "id": "02aMZ-92J8Nj"
      },
      "source": [
        "# Multivariate Analysis"
      ]
    },
    {
      "cell_type": "code",
      "metadata": {
        "colab": {
          "base_uri": "https://localhost:8080/",
          "height": 204
        },
        "id": "W51Md6uEKyEz",
        "outputId": "678abd8a-7692-4262-8998-4066d8346957"
      },
      "source": [
        "#converting our categorical data into numerical\n",
        "#house_enc ={'Relationship_Head':{'Head of Household':1,'Spouse':2,'Child':3,'Parent':4 ,'Other relative':5,'Other non-relatives':6}}   \n",
        "#Financial_noduplicates.replace(house_enc,inplace= True)\n",
        "#job_enc ={'Level_Of_Education':{'Primary education':1,'No formal education':2,'Secondary education':3, 'Tertiary education':4, 'Vocational/Specialised training':5,'6':6 ,'Other/Dont know/RTA':7 }} \n",
        "#Financial_noduplicates.replace(job_enc,inplace=True) \n",
        "#Financial_noduplicates.head() \n",
        "#loc_en = {'Type_Of_Location':{'Rural':0,'Urban':1}} \n",
        "#Financial_noduplicates.replace(loc_en,inplace = True)\n",
        "#Financial_noduplicates.head()\n",
        "#cell_en ={'Cellphone_Access':{'Yes':0,'No':1}}\n",
        "#Financial_noduplicates.replace(cell_en,inplace= True)\n",
        "Financial_noduplicates.head()\n",
        "#gen_en ={'Gender_Of_Respondent':{'Female':0,'Male':1}}\n",
        "#Financial_noduplicates.replace(gen_en,inplace= True)\n",
        "#ariral_gen = {'Marital_Status':{'Married/Living together':1,'Single/Never Married':2,'Widowed':3,'Divorced/Seperated':4,'Dont know':5}}\n",
        "#Financial_noduplicates.replace(mariral_gen,inplace=True)\n",
        "#job_en ={'Type_Of_Job':{'Self employed':1,'Informally employed':2,'Farming and Fishing':3,'Remittance Dependent':4,'Other Income':5,'No Income':6,'Formally employed Private':7,'Government Dependent':8,'Dont Know/Refuse to answer':9,'Formally employed Government':10   }}\n",
        "#Financial_noduplicates.replace(job_en,inplace=True)"
      ],
      "execution_count": 42,
      "outputs": [
        {
          "output_type": "execute_result",
          "data": {
            "text/html": [
              "<div>\n",
              "<style scoped>\n",
              "    .dataframe tbody tr th:only-of-type {\n",
              "        vertical-align: middle;\n",
              "    }\n",
              "\n",
              "    .dataframe tbody tr th {\n",
              "        vertical-align: top;\n",
              "    }\n",
              "\n",
              "    .dataframe thead th {\n",
              "        text-align: right;\n",
              "    }\n",
              "</style>\n",
              "<table border=\"1\" class=\"dataframe\">\n",
              "  <thead>\n",
              "    <tr style=\"text-align: right;\">\n",
              "      <th></th>\n",
              "      <th>Country</th>\n",
              "      <th>Year</th>\n",
              "      <th>Uniqueid</th>\n",
              "      <th>Bank_Account</th>\n",
              "      <th>Type_Of_Location</th>\n",
              "      <th>Cellphone_Access</th>\n",
              "      <th>Household_Size</th>\n",
              "      <th>Respondent_Age</th>\n",
              "      <th>Gender_Of_Respondent</th>\n",
              "      <th>Relationship_Head</th>\n",
              "      <th>Marital_Status</th>\n",
              "      <th>Level_Of_Education</th>\n",
              "      <th>Type_Of_Job</th>\n",
              "    </tr>\n",
              "  </thead>\n",
              "  <tbody>\n",
              "    <tr>\n",
              "      <th>0</th>\n",
              "      <td>Kenya</td>\n",
              "      <td>2018</td>\n",
              "      <td>uniqueid_1</td>\n",
              "      <td>Yes</td>\n",
              "      <td>0</td>\n",
              "      <td>0</td>\n",
              "      <td>3.0</td>\n",
              "      <td>24.0</td>\n",
              "      <td>0</td>\n",
              "      <td>2</td>\n",
              "      <td>1</td>\n",
              "      <td>3</td>\n",
              "      <td>1</td>\n",
              "    </tr>\n",
              "    <tr>\n",
              "      <th>1</th>\n",
              "      <td>Kenya</td>\n",
              "      <td>2018</td>\n",
              "      <td>uniqueid_2</td>\n",
              "      <td>No</td>\n",
              "      <td>0</td>\n",
              "      <td>1</td>\n",
              "      <td>5.0</td>\n",
              "      <td>70.0</td>\n",
              "      <td>0</td>\n",
              "      <td>1</td>\n",
              "      <td>3</td>\n",
              "      <td>2</td>\n",
              "      <td>8</td>\n",
              "    </tr>\n",
              "    <tr>\n",
              "      <th>2</th>\n",
              "      <td>Kenya</td>\n",
              "      <td>2018</td>\n",
              "      <td>uniqueid_3</td>\n",
              "      <td>Yes</td>\n",
              "      <td>1</td>\n",
              "      <td>0</td>\n",
              "      <td>5.0</td>\n",
              "      <td>26.0</td>\n",
              "      <td>1</td>\n",
              "      <td>5</td>\n",
              "      <td>2</td>\n",
              "      <td>5</td>\n",
              "      <td>1</td>\n",
              "    </tr>\n",
              "    <tr>\n",
              "      <th>3</th>\n",
              "      <td>Kenya</td>\n",
              "      <td>2018</td>\n",
              "      <td>uniqueid_4</td>\n",
              "      <td>No</td>\n",
              "      <td>0</td>\n",
              "      <td>0</td>\n",
              "      <td>5.0</td>\n",
              "      <td>34.0</td>\n",
              "      <td>0</td>\n",
              "      <td>1</td>\n",
              "      <td>1</td>\n",
              "      <td>1</td>\n",
              "      <td>7</td>\n",
              "    </tr>\n",
              "    <tr>\n",
              "      <th>4</th>\n",
              "      <td>Kenya</td>\n",
              "      <td>2018</td>\n",
              "      <td>uniqueid_5</td>\n",
              "      <td>No</td>\n",
              "      <td>1</td>\n",
              "      <td>1</td>\n",
              "      <td>8.0</td>\n",
              "      <td>26.0</td>\n",
              "      <td>1</td>\n",
              "      <td>3</td>\n",
              "      <td>2</td>\n",
              "      <td>1</td>\n",
              "      <td>2</td>\n",
              "    </tr>\n",
              "  </tbody>\n",
              "</table>\n",
              "</div>"
            ],
            "text/plain": [
              "  Country  Year    Uniqueid  ... Marital_Status  Level_Of_Education  Type_Of_Job\n",
              "0   Kenya  2018  uniqueid_1  ...              1                   3            1\n",
              "1   Kenya  2018  uniqueid_2  ...              3                   2            8\n",
              "2   Kenya  2018  uniqueid_3  ...              2                   5            1\n",
              "3   Kenya  2018  uniqueid_4  ...              1                   1            7\n",
              "4   Kenya  2018  uniqueid_5  ...              2                   1            2\n",
              "\n",
              "[5 rows x 13 columns]"
            ]
          },
          "metadata": {},
          "execution_count": 42
        }
      ]
    },
    {
      "cell_type": "code",
      "metadata": {
        "colab": {
          "base_uri": "https://localhost:8080/"
        },
        "id": "1goiM6JujkNE",
        "outputId": "62b0653e-f2ae-4b33-b4cd-21b17df9b1d1"
      },
      "source": [
        "#dropping the columns we dont need\n",
        "Financial_clean = Financial_noduplicates.drop(['Country','Year','Uniqueid'],axis =1)\n",
        "Financial_clean.info()"
      ],
      "execution_count": 43,
      "outputs": [
        {
          "output_type": "stream",
          "name": "stdout",
          "text": [
            "<class 'pandas.core.frame.DataFrame'>\n",
            "Int64Index: 23343 entries, 0 to 23523\n",
            "Data columns (total 10 columns):\n",
            " #   Column                Non-Null Count  Dtype  \n",
            "---  ------                --------------  -----  \n",
            " 0   Bank_Account          23343 non-null  object \n",
            " 1   Type_Of_Location      23343 non-null  int64  \n",
            " 2   Cellphone_Access      23343 non-null  int64  \n",
            " 3   Household_Size        23343 non-null  float64\n",
            " 4   Respondent_Age        23343 non-null  float64\n",
            " 5   Gender_Of_Respondent  23343 non-null  int64  \n",
            " 6   Relationship_Head     23343 non-null  int64  \n",
            " 7   Marital_Status        23343 non-null  int64  \n",
            " 8   Level_Of_Education    23343 non-null  int64  \n",
            " 9   Type_Of_Job           23343 non-null  int64  \n",
            "dtypes: float64(2), int64(7), object(1)\n",
            "memory usage: 2.0+ MB\n"
          ]
        }
      ]
    },
    {
      "cell_type": "code",
      "metadata": {
        "id": "njiNq6mQkcb7"
      },
      "source": [
        "#analysing data using the PCA\n",
        "# we divide data into features and corresponding label\n",
        "# we store feature set in X and label in y\n",
        "X = Financial_clean.drop('Bank_Account', 1)\n",
        "X\n",
        "y = Financial_clean['Bank_Account']"
      ],
      "execution_count": 44,
      "outputs": []
    },
    {
      "cell_type": "code",
      "metadata": {
        "id": "G3wHgJYXmBm3"
      },
      "source": [
        "#we now split the data into train and test set\n",
        "from sklearn.model_selection import train_test_split\n",
        "\n",
        "X_train, X_test, y_train, y_test = train_test_split(X, y, test_size=0.4, random_state=0)\n"
      ],
      "execution_count": 45,
      "outputs": []
    },
    {
      "cell_type": "code",
      "metadata": {
        "id": "W2CD2kNgmXjm"
      },
      "source": [
        "#scalar normalization to normalize the feature set\n",
        "from sklearn.preprocessing import StandardScaler\n",
        "sc = StandardScaler()\n",
        "X_train = sc.fit_transform(X_train)\n",
        "X_test = sc.transform(X_test)\n"
      ],
      "execution_count": 46,
      "outputs": []
    },
    {
      "cell_type": "code",
      "metadata": {
        "id": "h6SWM57Zo_Ke"
      },
      "source": [
        "#applying the PCA analysis\n",
        "from sklearn.decomposition import PCA\n",
        "\n",
        "pca = PCA()\n",
        "X_train = pca.fit_transform(X_train)\n",
        "\n",
        "X_test = pca.transform(X_test)"
      ],
      "execution_count": 47,
      "outputs": []
    },
    {
      "cell_type": "code",
      "metadata": {
        "colab": {
          "base_uri": "https://localhost:8080/"
        },
        "id": "3TTrc6OgpKMj",
        "outputId": "3d2dd25b-3bf5-4cff-d13b-3b483f4faa1f"
      },
      "source": [
        "#finding the explained variance in order to determine the number of PC\n",
        "explained_variance = pca.explained_variance_ratio_\n",
        "explained_variance\n",
        "#we will use 7 components because it variance add up to 95%"
      ],
      "execution_count": 48,
      "outputs": [
        {
          "output_type": "execute_result",
          "data": {
            "text/plain": [
              "array([0.18217691, 0.16656364, 0.14401836, 0.12279503, 0.09671598,\n",
              "       0.09255807, 0.07734738, 0.06945443, 0.04837021])"
            ]
          },
          "metadata": {},
          "execution_count": 48
        }
      ]
    },
    {
      "cell_type": "code",
      "metadata": {
        "id": "wELXcH7etVNp"
      },
      "source": [
        "#we use 4 components since it variance add up 88$ which is the highest\n",
        "\n",
        "from sklearn.decomposition import PCA\n",
        "\n",
        "pca = PCA(n_components=4)\n",
        "X_train = pca.fit_transform(X_train)\n",
        "X_test = pca.transform(X_test)\n"
      ],
      "execution_count": 49,
      "outputs": []
    },
    {
      "cell_type": "code",
      "metadata": {
        "colab": {
          "base_uri": "https://localhost:8080/"
        },
        "id": "ZsHcjHAmxMc-",
        "outputId": "dd020252-7c70-4416-f608-61ead4af9af7"
      },
      "source": [
        "#training our model and using it to make predictions\n",
        "from sklearn.ensemble import RandomForestClassifier\n",
        "\n",
        "classifier = RandomForestClassifier(max_depth=2, random_state=0)\n",
        "classifier.fit(X_train, y_train)\n",
        "\n",
        "# Predicting the Test set results\n",
        "y_pred = classifier.predict(X_test)\n",
        "y_pred"
      ],
      "execution_count": 53,
      "outputs": [
        {
          "output_type": "execute_result",
          "data": {
            "text/plain": [
              "array(['No', 'No', 'No', ..., 'No', 'No', 'No'], dtype=object)"
            ]
          },
          "metadata": {},
          "execution_count": 53
        }
      ]
    },
    {
      "cell_type": "code",
      "metadata": {
        "colab": {
          "base_uri": "https://localhost:8080/"
        },
        "id": "y1sGRxMQyO9J",
        "outputId": "8b2554ce-930f-4ccc-dca2-79e072ce0228"
      },
      "source": [
        "#we now test the accuracy of our model\n",
        "\n",
        "from sklearn.metrics import confusion_matrix\n",
        "from sklearn.metrics import accuracy_score\n",
        "\n",
        "cm = confusion_matrix(y_test, y_pred)\n",
        "print(cm)\n",
        "print('Accuracy' , accuracy_score(y_test,y_pred ))\n",
        "#it is 87.85% accurate\n"
      ],
      "execution_count": 52,
      "outputs": [
        {
          "output_type": "stream",
          "name": "stdout",
          "text": [
            "[[7967   53]\n",
            " [1082  236]]\n",
            "Accuracy 0.8784536303276933\n"
          ]
        }
      ]
    }
  ]
}